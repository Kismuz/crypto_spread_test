{
 "cells": [
  {
   "cell_type": "code",
   "execution_count": 1,
   "metadata": {
    "collapsed": true
   },
   "outputs": [],
   "source": [
    "import warnings\n",
    "warnings.filterwarnings(\"ignore\")\n",
    "\n",
    "import numpy as np\n",
    "import datetime\n",
    "\n",
    "from btgym import BTgymDataset\n",
    "\n",
    "from logbook import WARNING, INFO, DEBUG\n",
    "\n",
    "\n",
    "%matplotlib inline\n",
    "import matplotlib.pyplot as plt\n",
    "plt.style.use('seaborn-white')\n",
    "\n",
    "\n",
    "import unittest"
   ]
  },
  {
   "cell_type": "markdown",
   "metadata": {},
   "source": [
    "### Data sampling consistency test\n"
   ]
  },
  {
   "cell_type": "code",
   "execution_count": 6,
   "metadata": {
    "collapsed": true
   },
   "outputs": [],
   "source": [
    "\n",
    "\n",
    "num_tests = 1000\n",
    "\n",
    "filename='./data/CRYPTO_M1_201809_biased_1e-5.csv'\n",
    "\n",
    "parsing_params = dict(\n",
    "    # CSV to Pandas params.\n",
    "    sep=',',\n",
    "    header=0,\n",
    "    index_col=0,\n",
    "    parse_dates=True,\n",
    "    names=['open'],\n",
    "\n",
    "    # Pandas to BT.feeds params:\n",
    "    timeframe=1,  # 1 minute.\n",
    "    datetime=0,\n",
    "    open=1,\n",
    "    high=-1,\n",
    "    low=-1,\n",
    "    close=-1,\n",
    "    volume=-1,\n",
    "    openinterest=-1,\n",
    ")\n",
    "\n",
    "class DomainTest(unittest.TestCase):\n",
    "\n",
    "    def test_BTgymDataset_sampling_bounds_consistency(self):\n",
    "        \"\"\"\n",
    "        Any train trial mast precede any test period.\n",
    "        Same true for train/test episodes.\n",
    "        \"\"\"\n",
    "        domain = BTgymDataset(\n",
    "            filename=filename,\n",
    "            episode_duration={'days': 0, 'hours': 22, 'minutes': 0},\n",
    "            time_gap={'days': 0, 'hours': 12},\n",
    "            start_00=False,\n",
    "            start_weekdays={0, 1, 2, 3, 4, 5, 6},\n",
    "            parsing_params=parsing_params,\n",
    "            target_period={'days': 1, 'hours': 0, 'minutes': 0},\n",
    "        )\n",
    "        domain.reset()\n",
    "        sup_train_time = 0\n",
    "        inf_test_time = domain.data[-2:-1].index[0].value\n",
    "        \n",
    "        sup_test_index = None\n",
    "        sup_test_time = 0\n",
    "        \n",
    "        train_starts = []\n",
    "        train_ends = []\n",
    "        test_starts = []\n",
    "        test_ends = []\n",
    "                \n",
    "        for i in range(num_tests):\n",
    "            train_trial = domain.sample(get_new=True, sample_type=0)\n",
    "            last_train_time = train_trial.data[-2:-1].index[0].value\n",
    "            if last_train_time > sup_train_time:\n",
    "                sup_train_time = last_train_time\n",
    "\n",
    "            test_trial = domain.sample(get_new=True, sample_type=1)\n",
    "            first_test_time = test_trial.data[0:1].index[0].value\n",
    "            if first_test_time < inf_test_time:\n",
    "                inf_test_time = first_test_time\n",
    "\n",
    "            with self.subTest(msg='sub_{}'.format(i), train_trial=train_trial.filename, test_trial=test_trial.filename):\n",
    "                self.assertLess(sup_train_time, inf_test_time)\n",
    "                #print('sup_train_time: {}, inf_test_time: {}'.format(sup_train_time, inf_test_time))\n",
    "                with self.subTest('Train/test should be irrelevant dor Dataset episodes'):\n",
    "                    train_trial.reset()\n",
    "                    test_trial.reset()\n",
    "                    episode_1 = test_trial.sample(get_new=True, sample_type=1)\n",
    "                    episode_2 = train_trial.sample(get_new=True, sample_type=1)\n",
    "                    \n",
    "\n",
    "                    if sup_test_time < episode_1.data[-2:-1].index[0].value:\n",
    "                        sup_test_index = episode_1.data[-2:-1].index[0]\n",
    "                    \n",
    "                    \n",
    "                    train_starts.append(episode_2.data[0:1].index[0])\n",
    "                    train_ends.append(episode_2.data[-2:-1].index[0])\n",
    "\n",
    "\n",
    "                    test_starts.append(episode_1.data[0:1].index[0])\n",
    "                    test_ends.append(episode_1.data[-2:-1].index[0])\n",
    "\n",
    "                    \n",
    "        print('sup_test_index: ', sup_test_index)\n",
    "        \n",
    "        plt.figure(num=4, figsize=(14, 8))\n",
    "        plt.title('Episodes times distribution')\n",
    "        \n",
    "        plt.hist(train_starts, bins=50, label='train episode start time')\n",
    "        plt.hist(train_ends,  bins=50, label='train episode end time')\n",
    "        plt.hist(test_starts,  bins=50, label='test episode start time')\n",
    "        plt.hist(test_ends,  bins=50, label='test episode end time')\n",
    "\n",
    "        plt.grid(True)\n",
    "        plt.legend()\n",
    "        "
   ]
  },
  {
   "cell_type": "code",
   "execution_count": 7,
   "metadata": {},
   "outputs": [
    {
     "name": "stdout",
     "output_type": "stream",
     "text": [
      "sup_test_index:  2018-09-21 23:50:00\n"
     ]
    },
    {
     "name": "stderr",
     "output_type": "stream",
     "text": [
      ".\n",
      "----------------------------------------------------------------------\n",
      "Ran 1 test in 12.164s\n",
      "\n",
      "OK\n"
     ]
    },
    {
     "data": {
      "text/plain": [
       "<unittest.main.TestProgram at 0x114c73f98>"
      ]
     },
     "execution_count": 7,
     "metadata": {},
     "output_type": "execute_result"
    },
    {
     "data": {
      "image/png": "[encoded data removed]",
      "text/plain": [
       "<matplotlib.figure.Figure at 0x114c63518>"
      ]
     },
     "metadata": {},
     "output_type": "display_data"
    }
   ],
   "source": [
    "unittest.main(argv=['first-arg-is-ignored'], exit=False)"
   ]
  },
  {
   "cell_type": "code",
   "execution_count": null,
   "metadata": {
    "collapsed": true
   },
   "outputs": [],
   "source": []
  }
 ],
 "metadata": {
  "kernelspec": {
   "display_name": "Python 3",
   "language": "python",
   "name": "python3"
  },
  "language_info": {
   "codemirror_mode": {
    "name": "ipython",
    "version": 3
   },
   "file_extension": ".py",
   "mimetype": "text/x-python",
   "name": "python",
   "nbconvert_exporter": "python",
   "pygments_lexer": "ipython3",
   "version": "3.6.0"
  }
 },
 "nbformat": 4,
 "nbformat_minor": 2
}
